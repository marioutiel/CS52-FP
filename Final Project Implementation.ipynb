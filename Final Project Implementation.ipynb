{
 "cells": [
  {
   "cell_type": "code",
   "execution_count": 1,
   "id": "97517cf9",
   "metadata": {},
   "outputs": [],
   "source": [
    "using LinearAlgebra"
   ]
  },
  {
   "cell_type": "code",
   "execution_count": 2,
   "id": "2fe66943",
   "metadata": {},
   "outputs": [
    {
     "data": {
      "text/plain": [
       "potential_energy (generic function with 1 method)"
      ]
     },
     "execution_count": 2,
     "metadata": {},
     "output_type": "execute_result"
    }
   ],
   "source": [
    "function potential_energy(X)\n",
    "    # Compute the potential energy of the particle configuration\n",
    "    n = size(X,2)\n",
    "    energy = 0.0\n",
    "    for i in 1:n-1\n",
    "        for j in i+1:n\n",
    "            r = norm(X[:,i] - X[:,j])\n",
    "            energy += 1 / r^2\n",
    "        end\n",
    "    end\n",
    "    return energy\n",
    "end"
   ]
  },
  {
   "cell_type": "code",
   "execution_count": 3,
   "id": "dd593fee",
   "metadata": {},
   "outputs": [
    {
     "data": {
      "text/plain": [
       "gradient (generic function with 1 method)"
      ]
     },
     "execution_count": 3,
     "metadata": {},
     "output_type": "execute_result"
    }
   ],
   "source": [
    "function gradient(X)\n",
    "    # Compute the gradient of the potential energy\n",
    "    k = size(X,1)\n",
    "    n = size(X,2)\n",
    "    G = zeros(k, n)\n",
    "    for i in 1:n-1\n",
    "        for j in i+1:n\n",
    "            r = norm(X[:,i] - X[:,j])\n",
    "            G[:,i] += 2*(X[:,i] - X[:,j]) / r^4\n",
    "            G[:,j] += 2*(X[:,j] - X[:,i]) / r^4\n",
    "        end\n",
    "    end\n",
    "    return G\n",
    "end"
   ]
  },
  {
   "cell_type": "code",
   "execution_count": 4,
   "id": "12add883",
   "metadata": {},
   "outputs": [
    {
     "data": {
      "text/plain": [
       "hessian (generic function with 1 method)"
      ]
     },
     "execution_count": 4,
     "metadata": {},
     "output_type": "execute_result"
    }
   ],
   "source": [
    "function hessian(X)\n",
    "    # Compute the Hessian of the potential energy\n",
    "    k = size(X,1)\n",
    "    n = size(X,2)\n",
    "    H = zeros(k*n, k*n)\n",
    "    \n",
    "    for i in 1:n-1\n",
    "        for j in i+1:n\n",
    "            r = norm(X[:,i] - X[:,j])\n",
    "            R = X[:,i] - X[:,j]\n",
    "            \n",
    "            H[(i-1)*k+1:i*k, (i-1)*k+1:i*k] += 2*R*R' / r^4 - 8*Matrix{Float64}(I, k, k) / r^6\n",
    "            H[(j-1)*k+1:j*k, (j-1)*k+1:j*k] += 2*R*R' / r^4 - 8*Matrix{Float64}(I, k, k) / r^6\n",
    "            H[(i-1)*k+1:i*k, (j-1)*k+1:j*k] -= 2*R*R' / r^4 - 8*Matrix{Float64}(I, k, k) / r^6\n",
    "            H[(j-1)*k+1:j*k, (i-1)*k+1:i*k] -= 2*R*R' / r^4 - 8*Matrix{Float64}(I, k, k) / r^6\n",
    "    \n",
    "        end\n",
    "    end\n",
    "\n",
    "    return H\n",
    "end"
   ]
  },
  {
   "cell_type": "code",
   "execution_count": 5,
   "id": "9a7c45f0",
   "metadata": {},
   "outputs": [
    {
     "data": {
      "text/plain": [
       "gradient_descent (generic function with 1 method)"
      ]
     },
     "execution_count": 5,
     "metadata": {},
     "output_type": "execute_result"
    }
   ],
   "source": [
    "function gradient_descent(X::Matrix, alpha::Float64, tol::Float64, max_iter::Int)\n",
    "    # X = initial point\n",
    "    # alpha = step size\n",
    "    # tol = tolerance for convergence\n",
    "    # max_iter = maximum number of iterations\n",
    "    iter = 0\n",
    "    \n",
    "    while iter < max_iter\n",
    "        G = gradient(X)\n",
    "        X -= alpha .* G\n",
    "        X = X ./ sqrt.(sum(X.^2, dims=1)) # re-normalize positions\n",
    "    \n",
    "        if norm(G) < tol\n",
    "            print(\"Converged in \", iter, \"iterations\")\n",
    "            break\n",
    "        end\n",
    "        \n",
    "        iter += 1\n",
    "    end\n",
    "    \n",
    "    return X\n",
    "end"
   ]
  },
  {
   "cell_type": "code",
   "execution_count": 6,
   "id": "b08abaf1",
   "metadata": {},
   "outputs": [
    {
     "data": {
      "text/plain": [
       "newton_method (generic function with 1 method)"
      ]
     },
     "execution_count": 6,
     "metadata": {},
     "output_type": "execute_result"
    }
   ],
   "source": [
    "function newton_method(X::Matrix, tol::Float64, max_iter::Int)\n",
    "    k = size(X,1)\n",
    "    n = size(X,2)\n",
    "    iter = 0\n",
    "    while iter < max_iter\n",
    "        G = gradient(X)\n",
    "        H = hessian(X)\n",
    "        dX = - H \\ G[:]\n",
    "        X += reshape(dX, k, n)\n",
    "        X = X ./ sqrt.(sum(X.^2, dims=1)) # re-normalize positions\n",
    "        if norm(G) < tol\n",
    "            print(\"Converged in \", iter, \"iterations\")\n",
    "            break\n",
    "        end\n",
    "        iter += 1\n",
    "    end\n",
    "\n",
    "    return X\n",
    "end"
   ]
  },
  {
   "cell_type": "code",
   "execution_count": 90,
   "id": "4cfa5a36",
   "metadata": {},
   "outputs": [
    {
     "data": {
      "text/plain": [
       "regularized_newton_method (generic function with 1 method)"
      ]
     },
     "execution_count": 90,
     "metadata": {},
     "output_type": "execute_result"
    }
   ],
   "source": [
    "function regularized_newton_method(X::Matrix, tol::Float64, max_iter::Int)\n",
    "    k = size(X,1)\n",
    "    n = size(X,2)\n",
    "    iter = 0\n",
    "    while iter < max_iter\n",
    "        G = gradient(X)\n",
    "        H = hessian(X)\n",
    "        H += 1e-6 * Matrix{Float64}(I,k*n,k*n)\n",
    "        dX = - H \\ G[:]\n",
    "        X += reshape(dX, k, n)\n",
    "        X = X ./ sqrt.(sum(X.^2, dims=1))\n",
    "        if norm(G) < tol\n",
    "            print(\"Converged in \", iter, \"iterations\")\n",
    "            break\n",
    "        end\n",
    "        iter += 1\n",
    "    end\n",
    "    return X\n",
    "end"
   ]
  },
  {
   "cell_type": "code",
   "execution_count": 8,
   "id": "5ecd14fe",
   "metadata": {},
   "outputs": [
    {
     "data": {
      "text/plain": [
       "random_thomson_problem (generic function with 1 method)"
      ]
     },
     "execution_count": 8,
     "metadata": {},
     "output_type": "execute_result"
    }
   ],
   "source": [
    "function random_thomson_problem(k::Int, n::Int)\n",
    "    # Initialize particle positions randomly on the unit sphere\n",
    "    X = randn(k, n)\n",
    "    X = X ./ sqrt.(sum(X.^2, dims=1))\n",
    "\n",
    "    # Gradient Descent\n",
    "    #X = gradient_descent(X, 0.001, 1e-6, 10000)\n",
    "    \n",
    "    # Newton's Method\n",
    "    #X = newton_method(X, 1e-6, 1000)\n",
    "    \n",
    "    # Regularized Newton's Method\n",
    "    X = regularized_newton_method(X, 1e-6, 10000)\n",
    "\n",
    "    return X\n",
    "end"
   ]
  },
  {
   "cell_type": "code",
   "execution_count": 195,
   "id": "05948881",
   "metadata": {},
   "outputs": [
    {
     "ename": "LoadError",
     "evalue": "SingularException(6)",
     "output_type": "error",
     "traceback": [
      "SingularException(6)",
      "",
      "Stacktrace:",
      " [1] checknonsingular",
      "   @ /usr/share/julia/stdlib/v1.8/LinearAlgebra/src/factorization.jl:19 [inlined]",
      " [2] checknonsingular",
      "   @ /usr/share/julia/stdlib/v1.8/LinearAlgebra/src/factorization.jl:21 [inlined]",
      " [3] #lu!#170",
      "   @ /usr/share/julia/stdlib/v1.8/LinearAlgebra/src/lu.jl:82 [inlined]",
      " [4] #lu#177",
      "   @ /usr/share/julia/stdlib/v1.8/LinearAlgebra/src/lu.jl:279 [inlined]",
      " [5] lu (repeats 2 times)",
      "   @ /usr/share/julia/stdlib/v1.8/LinearAlgebra/src/lu.jl:278 [inlined]",
      " [6] \\(A::Matrix{Float64}, B::Vector{Float64})",
      "   @ LinearAlgebra /usr/share/julia/stdlib/v1.8/LinearAlgebra/src/generic.jl:1110",
      " [7] regularized_newton_method(X::Matrix{Float64}, tol::Float64, max_iter::Int64)",
      "   @ Main ./In[90]:9",
      " [8] random_thomson_problem(k::Int64, n::Int64)",
      "   @ Main ./In[8]:13",
      " [9] top-level scope",
      "   @ In[195]:1"
     ]
    }
   ],
   "source": [
    "X = random_thomson_problem(3,2)\n",
    "fx = potential_energy(X)\n",
    "gx = gradient(X)\n",
    "print(\"Energy: \", fx, \"\\nGrad: \", gx)\n",
    "norm(gx)"
   ]
  },
  {
   "cell_type": "code",
   "execution_count": 231,
   "id": "c4cc44f3",
   "metadata": {},
   "outputs": [
    {
     "name": "stdout",
     "output_type": "stream",
     "text": [
      "Energy: 0.4999999999999999\n",
      "Grad: 0.9999999999999998"
     ]
    }
   ],
   "source": [
    "X = [0.0 0.0; 1 0.0; 0.0 1]\n",
    "fx = potential_energy(X)\n",
    "gx = norm(gradient(X))\n",
    "print(\"Energy: \", fx, \"\\nGrad: \", gx)"
   ]
  },
  {
   "cell_type": "code",
   "execution_count": 219,
   "id": "5cdafe58",
   "metadata": {},
   "outputs": [
    {
     "name": "stdout",
     "output_type": "stream",
     "text": [
      "Point: [0.0 0.0; 0.7256306316883444 0.6880867734285924; 0.6880844325775538 0.7256284119524463]\n",
      "Energy: 354.72418544496946\n",
      "Grad: 18896.492247945243"
     ]
    }
   ],
   "source": [
    "X1 = regularized_newton_method(X, 1e-8, 1000)\n",
    "fx1 = potential_energy(X1)\n",
    "gx1 = norm(gradient(X1))\n",
    "print(\"Point: \", X1, \"\\nEnergy: \", fx1, \"\\nGrad: \", gx1)"
   ]
  },
  {
   "cell_type": "code",
   "execution_count": 252,
   "id": "fd225964",
   "metadata": {},
   "outputs": [
    {
     "data": {
      "text/plain": [
       "1.0"
      ]
     },
     "execution_count": 252,
     "metadata": {},
     "output_type": "execute_result"
    }
   ],
   "source": [
    "norm(X[1:3])"
   ]
  }
 ],
 "metadata": {
  "kernelspec": {
   "display_name": "Julia 1.8.5",
   "language": "julia",
   "name": "julia-1.8"
  },
  "language_info": {
   "file_extension": ".jl",
   "mimetype": "application/julia",
   "name": "julia",
   "version": "1.8.5"
  }
 },
 "nbformat": 4,
 "nbformat_minor": 5
}
