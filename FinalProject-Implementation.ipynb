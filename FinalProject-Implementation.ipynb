{
 "cells": [
  {
   "cell_type": "code",
   "execution_count": 1,
   "id": "f6b1b3a6",
   "metadata": {},
   "outputs": [],
   "source": [
    "using LinearAlgebra"
   ]
  },
  {
   "cell_type": "markdown",
   "id": "5cb92a36",
   "metadata": {},
   "source": [
    "### Energy Function to Optimize\n",
    "$$f(X) = \\sum_{i \\neq j} \\frac{1}{||x_i - x_j||^2}$$\n",
    "$$||x_i|| = ||x_j|| = 1$$"
   ]
  },
  {
   "cell_type": "code",
   "execution_count": 2,
   "id": "a1db24a6",
   "metadata": {},
   "outputs": [
    {
     "data": {
      "text/plain": [
       "potential_energy (generic function with 1 method)"
      ]
     },
     "execution_count": 2,
     "metadata": {},
     "output_type": "execute_result"
    }
   ],
   "source": [
    "function potential_energy(X)\n",
    "    # Compute the potential energy of the particle configuration\n",
    "    n = size(X,2)\n",
    "    energy = 0.0\n",
    "    for i in 1:n-1\n",
    "        for j in i+1:n\n",
    "            r = norm(X[:,i] - X[:,j])\n",
    "            energy += 1 / r^2\n",
    "        end\n",
    "    end\n",
    "    return energy\n",
    "end"
   ]
  },
  {
   "cell_type": "markdown",
   "id": "fb38cefd",
   "metadata": {},
   "source": [
    "### Gradient of Energy Function\n",
    "$$g(X) = \\nabla f(X)$$\n",
    "$$\\frac{\\partial f}{\\partial x_i} = \\sum_{j \\neq i} \\frac{-2(x_i - x_j)}{||x_i - x_j||^4}$$\n",
    "$$\\frac{\\partial f}{\\partial x_j} = \\sum_{i \\neq j} \\frac{2(x_i - x_j)}{||x_i - x_j||^4}$$\n",
    "$$||x_i|| = ||x_j|| = 1$$"
   ]
  },
  {
   "cell_type": "code",
   "execution_count": 3,
   "id": "1cc2c1a5",
   "metadata": {},
   "outputs": [
    {
     "data": {
      "text/plain": [
       "gradient (generic function with 1 method)"
      ]
     },
     "execution_count": 3,
     "metadata": {},
     "output_type": "execute_result"
    }
   ],
   "source": [
    "function gradient(X)\n",
    "    # Compute the gradient of the potential energy\n",
    "    k = size(X,1)\n",
    "    n = size(X,2)\n",
    "    G = zeros(k, n)\n",
    "    for i in 1:n-1\n",
    "        for j in i+1:n\n",
    "            z = X[:,i] - X[:,j]\n",
    "            r = norm(z)\n",
    "            G[:,i] += -2*z / r^4\n",
    "            G[:,j] += 2*z / r^4\n",
    "        end\n",
    "    end\n",
    "    return G\n",
    "end"
   ]
  },
  {
   "cell_type": "markdown",
   "id": "34db3afc",
   "metadata": {},
   "source": [
    "### Gradient Descent Algorithm\n",
    "$$X_{k+1} = X_k - \\alpha g(X_k)$$\n",
    "$$||X_k|| = 1$$"
   ]
  },
  {
   "cell_type": "code",
   "execution_count": 4,
   "id": "a9b4f516",
   "metadata": {},
   "outputs": [
    {
     "data": {
      "text/plain": [
       "gradient_descent (generic function with 1 method)"
      ]
     },
     "execution_count": 4,
     "metadata": {},
     "output_type": "execute_result"
    }
   ],
   "source": [
    "function gradient_descent(X::Matrix, alpha::Float64, tol::Float64, max_iter::Int)\n",
    "    # X = initial point\n",
    "    # alpha = step size\n",
    "    # tol = tolerance for convergence\n",
    "    # max_iter = maximum number of iterations\n",
    "    iter = 0\n",
    "    \n",
    "    while iter < max_iter\n",
    "        G = gradient(X)\n",
    "        X -= alpha .* G\n",
    "        X = X ./ sqrt.(sum(X.^2, dims=1)) # re-normalize positions\n",
    "    \n",
    "        if norm(G) < tol\n",
    "            print(\"Converged in \", iter, \"iterations\")\n",
    "            break\n",
    "        end\n",
    "        \n",
    "        iter += 1\n",
    "    end\n",
    "    \n",
    "    return X\n",
    "end"
   ]
  },
  {
   "cell_type": "markdown",
   "id": "975c0a09",
   "metadata": {},
   "source": [
    "### Thompson Problem\n",
    "Implementation of the Thompson Problem using gradient descent, and a initial random point $X_0$"
   ]
  },
  {
   "cell_type": "code",
   "execution_count": 5,
   "id": "dd4932eb",
   "metadata": {},
   "outputs": [
    {
     "data": {
      "text/plain": [
       "random_thomson_problem (generic function with 1 method)"
      ]
     },
     "execution_count": 5,
     "metadata": {},
     "output_type": "execute_result"
    }
   ],
   "source": [
    "function random_thomson_problem(k::Int, n::Int, alpha::Float64, tol::Float64, max_iter::Int)\n",
    "    # Initialize particle positions randomly on the unit sphere\n",
    "    X = randn(k, n)\n",
    "    X = X ./ sqrt.(sum(X.^2, dims=1))\n",
    "\n",
    "    # Gradient Descent\n",
    "    X = gradient_descent(X, alpha, tol, max_iter)\n",
    "    \n",
    "    return X\n",
    "end"
   ]
  },
  {
   "cell_type": "markdown",
   "id": "37018a16",
   "metadata": {},
   "source": [
    "### Some Results\n",
    "$k=3, n=2$ to test the functions. That is, a 3D Sphere with just 2 particles."
   ]
  },
  {
   "cell_type": "code",
   "execution_count": 6,
   "id": "ebb65f0a",
   "metadata": {
    "scrolled": true
   },
   "outputs": [
    {
     "name": "stdout",
     "output_type": "stream",
     "text": [
      "Energy: 0.5\n",
      "Grad: 1.4142135623730951\n",
      "X1 Norm: 1.0\n",
      "X2 Norm: 1.0"
     ]
    },
    {
     "data": {
      "text/plain": [
       "3×2 Matrix{Float64}:\n",
       " 0.348187  -0.348187\n",
       " 0.575102  -0.575102\n",
       " 0.740286  -0.740286"
      ]
     },
     "execution_count": 6,
     "metadata": {},
     "output_type": "execute_result"
    }
   ],
   "source": [
    "X = random_thomson_problem(3,2, 0.01, 1e-6, 10000)\n",
    "fx = potential_energy(X)\n",
    "gx = gradient(X)\n",
    "print(\"Energy: \", fx, \"\\nGrad: \", norm(gx), \"\\nX1 Norm: \", norm(X[1:3]), \"\\nX2 Norm: \", norm(X[4:6]))\n",
    "X"
   ]
  },
  {
   "cell_type": "markdown",
   "id": "58c8792d",
   "metadata": {},
   "source": [
    "### Initial point is already a solution"
   ]
  },
  {
   "cell_type": "code",
   "execution_count": 7,
   "id": "c884f760",
   "metadata": {},
   "outputs": [
    {
     "name": "stdout",
     "output_type": "stream",
     "text": [
      "Energy: 0.5\n",
      "Grad: 1.4142135623730951\n",
      "X1 Norm: 1.0\n",
      "X2 Norm: 1.0"
     ]
    },
    {
     "data": {
      "text/plain": [
       "3×2 Matrix{Float64}:\n",
       " 0.0   0.0\n",
       " 1.0  -1.0\n",
       " 0.0   0.0"
      ]
     },
     "execution_count": 7,
     "metadata": {},
     "output_type": "execute_result"
    }
   ],
   "source": [
    "X = [0.0 0.0; 1 -1; 0.0 0.0]\n",
    "fx = potential_energy(X)\n",
    "gx = gradient(X)\n",
    "print(\"Energy: \", fx, \"\\nGrad: \", norm(gx), \"\\nX1 Norm: \", norm(X[1:3]), \"\\nX2 Norm: \", norm(X[4:6]))\n",
    "X"
   ]
  }
 ],
 "metadata": {
  "kernelspec": {
   "display_name": "Julia 1.8.5",
   "language": "julia",
   "name": "julia-1.8"
  },
  "language_info": {
   "file_extension": ".jl",
   "mimetype": "application/julia",
   "name": "julia",
   "version": "1.8.5"
  }
 },
 "nbformat": 4,
 "nbformat_minor": 5
}
